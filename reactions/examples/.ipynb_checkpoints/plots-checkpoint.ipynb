{
 "cells": [
  {
   "cell_type": "code",
   "execution_count": 1,
   "metadata": {
    "collapsed": true
   },
   "outputs": [],
   "source": [
    "import numpy as np"
   ]
  },
  {
   "cell_type": "code",
   "execution_count": 2,
   "metadata": {
    "collapsed": true
   },
   "outputs": [],
   "source": [
    "import pylab as pl"
   ]
  },
  {
   "cell_type": "code",
   "execution_count": 3,
   "metadata": {
    "collapsed": true
   },
   "outputs": [],
   "source": [
    "import matplotlib.pyplot as plt"
   ]
  },
  {
   "cell_type": "code",
   "execution_count": 4,
   "metadata": {
    "collapsed": true
   },
   "outputs": [],
   "source": [
    "import matplotlib.gridspec as gridspec"
   ]
  },
  {
   "cell_type": "code",
   "execution_count": 27,
   "metadata": {
    "collapsed": false
   },
   "outputs": [],
   "source": [
    "grnf4a=np.loadtxt(\"GR/GR_F4_z0_avg.dat\")\n",
    "grnf4=np.loadtxt(\"GR/GR_F4_z0.dat\")\n",
    "grndgpw=np.loadtxt(\"GR/GR_nDGP_z0_woj.dat\")\n",
    "grndgpk=np.loadtxt(\"GR/GR_nDGP_z0_kaz.dat\")"
   ]
  },
  {
   "cell_type": "code",
   "execution_count": 50,
   "metadata": {
    "collapsed": true
   },
   "outputs": [],
   "source": [
    "pl.plot(grnf4a[:,0], np.sqrt(grnf4a[:,0]**3)*grnf4a[:,1], marker='o', color='b', ls='',  label='data')\n",
    "pl.plot(grsf4[:,0], np.sqrt(grsf4[:,0]**3)*grsf4[:,1], color = 'r' , label='spt')\n",
    "pl.plot(grsf4cs[:,0], np.sqrt(grsf4cs[:,0]**3)*grsf4cs[:,1], color = 'g' , label='c_s=1.87673')\n",
    "plt.legend(loc='best')\n",
    "pl.xlabel(\"$k \\, \\mathrm{[h/ Mpc]}$\")\n",
    "pl.ylabel(r\"$k^{3/2} P_{ij}(k)$\")\n",
    "pl.xlim(0.005,0.2)\n",
    "pl.ylim(0,250)\n",
    "pl.text(0.1, 45, ' GR_f4 (averaged)',  weight='bold', size='x-large')\n",
    "pl.text(0.1, 30, 'z=0',  weight='bold', size='x-large')\n",
    "pl.savefig('plots/grf4a.pdf', format=\"pdf\", bbox_inches = 'tight')\n",
    "pl.show()"
   ]
  },
  {
   "cell_type": "code",
   "execution_count": 51,
   "metadata": {
    "collapsed": true
   },
   "outputs": [],
   "source": [
    "pl.plot(grnf4[:,0], np.sqrt(grnf4[:,0]**3)*grnf4[:,1], marker='o', color='b', ls='',  label='data')\n",
    "pl.plot(grsf4[:,0], np.sqrt(grsf4[:,0]**3)*grsf4[:,1], color = 'r' , label='spt')\n",
    "pl.plot(grsf4cs1[:,0], np.sqrt(grsf4cs1[:,0]**3)*grsf4cs1[:,1], color = 'g' , label='c_s=1.78749')\n",
    "plt.legend(loc='best')\n",
    "pl.xlabel(\"$k \\, \\mathrm{[h/ Mpc]}$\")\n",
    "pl.ylabel(r\"$k^{3/2} P_{ij}(k)$\")\n",
    "pl.xlim(0.005,0.2)\n",
    "pl.ylim(0,250)\n",
    "pl.text(0.1, 45, 'GR_f4 (not averaged)',  weight='bold', size='x-large')\n",
    "pl.text(0.1, 30, 'z=0',  weight='bold', size='x-large')\n",
    "pl.savefig('plots/grf4b.pdf', format=\"pdf\", bbox_inches = 'tight')\n",
    "pl.show()"
   ]
  },
  {
   "cell_type": "code",
   "execution_count": 45,
   "metadata": {
    "collapsed": true
   },
   "outputs": [],
   "source": [
    "pl.plot(grndgpw[:,0], np.sqrt(grndgpw[:,0]**3)*grndgpw[:,1], marker='o', color='b', ls='',  label='data')\n",
    "pl.plot(grsdgpw[:,0], np.sqrt(grsdgpw[:,0]**3)*grsdgpw[:,1], color = 'r' , label='spt')\n",
    "pl.plot(grsdgpwcs[:,0], np.sqrt(grsdgpwcs[:,0]**3)*grsdgpwcs[:,1], color = 'g' , label='c_s=0.553608')\n",
    "plt.legend(loc='best')\n",
    "pl.xlabel(\"$k \\, \\mathrm{[h/ Mpc]}$\")\n",
    "pl.ylabel(r\"$k^{3/2} P_{ij}(k)$\")\n",
    "pl.xlim(0.005,0.2)\n",
    "pl.ylim(0,300)\n",
    "pl.text(0.1, 45, 'GR_nDGP (Gongbo)',  weight='bold', size='x-large')\n",
    "pl.text(0.1, 30, 'z=0',  weight='bold', size='x-large')\n",
    "pl.savefig('plots/grdgpa.pdf', format=\"pdf\", bbox_inches = 'tight')\n",
    "pl.show()"
   ]
  },
  {
   "cell_type": "code",
   "execution_count": 63,
   "metadata": {
    "collapsed": true
   },
   "outputs": [],
   "source": [
    "pl.plot(grndgpk[:,0], np.sqrt(grndgpk[:,0]**3)*grndgpk[:,1], marker='o', color='b', ls='',  label='data')\n",
    "pl.plot(grsdgpk[:,0], np.sqrt(grsdgpk[:,0]**3)*grsdgpk[:,1], color = 'r' , label='spt')\n",
    "pl.plot(grsdgpkcs[:,0], np.sqrt(grsdgpkcs[:,0]**3)*grsdgpkcs[:,1], color = 'g' , label='c_s=1.61581')\n",
    "plt.legend(loc='best')\n",
    "pl.xlabel(\"$k \\, \\mathrm{[h/ Mpc]}$\")\n",
    "pl.ylabel(r\"$k^{3/2} P_{ij}(k)$\")\n",
    "pl.xlim(0.005,0.2)\n",
    "pl.ylim(0,300)\n",
    "pl.text(0.09, 45, 'GR_nDGP (Alex Barreira)',  weight='bold', size='x-large')\n",
    "pl.text(0.1, 30, 'z=0',  weight='bold', size='x-large')\n",
    "pl.savefig('plots/grdgpb.pdf', format=\"pdf\", bbox_inches = 'tight')\n",
    "pl.show()"
   ]
  },
  {
   "cell_type": "code",
   "execution_count": 19,
   "metadata": {
    "collapsed": false
   },
   "outputs": [],
   "source": [
    "frnf4a=np.loadtxt(\"fr/F4_z0_pdd_avg.dat\")\n",
    "frnf4=np.loadtxt(\"fr/F4_z0_pdd.dat\")\n",
    "frnf5=np.loadtxt(\"fr/F5_z0_pdd.dat\")\n",
    "frnf6=np.loadtxt(\"fr/F6_z0_pdd.dat\")"
   ]
  },
  {
   "cell_type": "code",
   "execution_count": 20,
   "metadata": {
    "collapsed": true
   },
   "outputs": [],
   "source": [
    "frsf4 = np.loadtxt(\"F4_cs_cop.dat\")\n",
    "frsf5 = np.loadtxt(\"F5_cs_cop.dat\")\n",
    "frsf6 = np.loadtxt(\"F6_cs_cop.dat\")"
   ]
  },
  {
   "cell_type": "code",
   "execution_count": 34,
   "metadata": {
    "collapsed": false
   },
   "outputs": [],
   "source": [
    "frsf4csa = np.loadtxt(\"cs_fr/F4_cs.dat\")\n",
    "frsf4cs = np.loadtxt(\"cs_fr/F4_cs2.dat\")\n",
    "frsf5cs = np.loadtxt(\"cs_fr/F5_cs.dat\")\n",
    "frsf6cs = np.loadtxt(\"cs_fr/F6_cs.dat\")"
   ]
  },
  {
   "cell_type": "code",
   "execution_count": 26,
   "metadata": {
    "collapsed": true
   },
   "outputs": [],
   "source": []
  },
  {
   "cell_type": "code",
   "execution_count": 40,
   "metadata": {
    "collapsed": false
   },
   "outputs": [],
   "source": [
    "pl.plot(frnf4a[:,0], np.sqrt(frnf4a[:,0]**3)*frnf4a[:,1], marker='o', color='b', ls='',  label='data')\n",
    "pl.plot(frsf4[:,0], np.sqrt(frsf4[:,0]**3)*frsf4[:,1], color = 'r' , label='spt')\n",
    "pl.plot(frsf4csa[:,0], np.sqrt(frsf4csa[:,0]**3)*frsf4csa[:,1], color = 'g' , label='c_s= 2.50611')\n",
    "plt.legend(loc='best')\n",
    "pl.xlabel(\"$k \\, \\mathrm{[h/ Mpc]}$\")\n",
    "pl.ylabel(r\"$k^{3/2} P_{ij}(k)$\")\n",
    "pl.xlim(0.005,0.2)\n",
    "pl.ylim(0,350)\n",
    "pl.text(0.1, 48, 'f4 (averaged)',  weight='bold', size='x-large')\n",
    "pl.text(0.1, 30, 'z=0',  weight='bold', size='x-large')\n",
    "pl.savefig('plots/frf4a.pdf', format=\"pdf\", bbox_inches = 'tight')\n",
    "pl.show()"
   ]
  },
  {
   "cell_type": "code",
   "execution_count": 42,
   "metadata": {
    "collapsed": false
   },
   "outputs": [],
   "source": [
    "pl.plot(frnf4[:,0], np.sqrt(frnf4[:,0]**3)*frnf4[:,1], marker='o', color='b', ls='',  label='data')\n",
    "pl.plot(frsf4[:,0], np.sqrt(frsf4[:,0]**3)*frsf4[:,1], color = 'r' , label='spt')\n",
    "pl.plot(frsf4cs[:,0], np.sqrt(frsf4cs[:,0]**3)*frsf4cs[:,1], color = 'g' , label='c_s= 2.43705')\n",
    "plt.legend(loc='best')\n",
    "pl.xlabel(\"$k \\, \\mathrm{[h/ Mpc]}$\")\n",
    "pl.ylabel(r\"$k^{3/2} P_{ij}(k)$\")\n",
    "pl.xlim(0.005,0.2)\n",
    "pl.ylim(0,350)\n",
    "pl.text(0.1, 48, 'f4 (not averaged)',  weight='bold', size='x-large')\n",
    "pl.text(0.1, 30, 'z=0',  weight='bold', size='x-large')\n",
    "pl.savefig('plots/frf4b.pdf', format=\"pdf\", bbox_inches = 'tight')\n",
    "pl.show()"
   ]
  },
  {
   "cell_type": "code",
   "execution_count": 44,
   "metadata": {
    "collapsed": false
   },
   "outputs": [],
   "source": [
    "pl.plot(frnf5[:,0], np.sqrt(frnf5[:,0]**3)*frnf5[:,1], marker='o', color='b', ls='',  label='data')\n",
    "pl.plot(frsf5[:,0], np.sqrt(frsf5[:,0]**3)*frsf5[:,1], color = 'r' , label='spt')\n",
    "pl.plot(frsf5cs[:,0], np.sqrt(frsf5cs[:,0]**3)*frsf5cs[:,1], color = 'g' , label='c_s=2.13898')\n",
    "plt.legend(loc='best')\n",
    "pl.xlabel(\"$k \\, \\mathrm{[h/ Mpc]}$\")\n",
    "pl.ylabel(r\"$k^{3/2} P_{ij}(k)$\")\n",
    "pl.xlim(0.005,0.2)\n",
    "pl.ylim(0,350)\n",
    "pl.text(0.1, 45, 'f5 (averaged)',  weight='bold', size='x-large')\n",
    "pl.text(0.1, 30, 'z=0',  weight='bold', size='x-large')\n",
    "pl.savefig('plots/frf5.pdf', format=\"pdf\", bbox_inches = 'tight')\n",
    "pl.show()"
   ]
  },
  {
   "cell_type": "code",
   "execution_count": 46,
   "metadata": {
    "collapsed": false
   },
   "outputs": [],
   "source": [
    "pl.plot(frnf6[:,0], np.sqrt(frnf6[:,0]**3)*frnf6[:,1], marker='o', color='b', ls='',  label='data')\n",
    "pl.plot(frsf6[:,0], np.sqrt(frsf6[:,0]**3)*frsf6[:,1], color = 'r' , label='spt')\n",
    "pl.plot(frsf6cs[:,0], np.sqrt(frsf6cs[:,0]**3)*frsf6cs[:,1], color = 'g' , label='c_s= 1.94393')\n",
    "plt.legend(loc='best')\n",
    "pl.xlabel(\"$k \\, \\mathrm{[h/ Mpc]}$\")\n",
    "pl.ylabel(r\"$k^{3/2} P_{ij}(k)$\")\n",
    "pl.xlim(0.005,0.2)\n",
    "pl.ylim(0,300)\n",
    "pl.text(0.1, 45, 'f6 (averaged)',  weight='bold', size='x-large')\n",
    "pl.text(0.1, 30, 'z=0',  weight='bold', size='x-large')\n",
    "pl.savefig('plots/frf6.pdf', format=\"pdf\", bbox_inches = 'tight')\n",
    "pl.show()"
   ]
  },
  {
   "cell_type": "code",
   "execution_count": 13,
   "metadata": {
    "collapsed": true
   },
   "outputs": [],
   "source": [
    "dgpnf5=np.loadtxt(\"nDGP/nDGP_F5_z0.dat\")\n",
    "dgpnf6=np.loadtxt(\"nDGP/nDGP_F6_z0.dat\")\n",
    "dgpnalex=np.loadtxt(\"nDGP/nDGP_z0_pdd_alex.dat\")"
   ]
  },
  {
   "cell_type": "code",
   "execution_count": 14,
   "metadata": {
    "collapsed": true
   },
   "outputs": [],
   "source": [
    "dgpsf5 = np.loadtxt(\"dgp_438_cs.dat\")\n",
    "dgpsf6 = np.loadtxt(\"dgp_0124_cs.dat\")\n",
    "dgpsalex = np.loadtxt(\"dgp_25_cs.dat\")"
   ]
  },
  {
   "cell_type": "code",
   "execution_count": 15,
   "metadata": {
    "collapsed": true
   },
   "outputs": [],
   "source": [
    "dgpsf5cs = np.loadtxt(\"cs_dgp/cs_dgp1.dat\")\n",
    "dgpsf6cs = np.loadtxt(\"cs_dgp/cs_dgp2.dat\")\n",
    "dgpsalexcs = np.loadtxt(\"cs_dgp/cs_dgp3.dat\")"
   ]
  },
  {
   "cell_type": "code",
   "execution_count": 16,
   "metadata": {
    "collapsed": true
   },
   "outputs": [],
   "source": [
    "pl.plot(dgpnf5[:,0], np.sqrt(dgpnf5[:,0]**3)*dgpnf5[:,1], marker='o', color='b', ls='',  label='data')\n",
    "pl.plot(dgpsf5[:,0], np.sqrt(dgpsf5[:,0]**3)*dgpsf5[:,1], color = 'r' , label='spt')\n",
    "pl.plot(dgpsf5cs[:,0], np.sqrt(dgpsf5cs[:,0]**3)*dgpsf5cs[:,1], color = 'g' , label='c_s=3.88655')\n",
    "plt.legend(loc='best')\n",
    "pl.xlabel(\"$k \\, \\mathrm{[h/ Mpc]}$\")\n",
    "pl.ylabel(r\"$k^{3/2} P_{ij}(k)$\")\n",
    "pl.xlim(0.005,0.2)\n",
    "pl.ylim(0,350)\n",
    "pl.text(0.09, 65, '$\\Omega_{rc} = 0.438$',  weight='bold', size='x-large')\n",
    "pl.text(0.09, 45, 'nDGP_f5',  weight='bold', size='x-large')\n",
    "pl.text(0.1, 28, 'z=0',  weight='bold', size='x-large')\n",
    "pl.savefig('plots/dgpf5.pdf', format=\"pdf\", bbox_inches = 'tight')\n",
    "pl.show()"
   ]
  },
  {
   "cell_type": "code",
   "execution_count": 17,
   "metadata": {
    "collapsed": true
   },
   "outputs": [],
   "source": [
    "pl.plot(dgpnf6[:,0], np.sqrt(dgpnf6[:,0]**3)*dgpnf6[:,1], marker='o', color='b', ls='',  label='data')\n",
    "pl.plot(dgpsf6[:,0], np.sqrt(dgpsf6[:,0]**3)*dgpsf6[:,1], color = 'r' , label='spt')\n",
    "pl.plot(dgpsf6cs[:,0], np.sqrt(dgpsf6cs[:,0]**3)*dgpsf6cs[:,1], color = 'g' , label='c_s=1.39658')\n",
    "plt.legend(loc='best')\n",
    "pl.xlabel(\"$k \\, \\mathrm{[h/ Mpc]}$\")\n",
    "pl.ylabel(r\"$k^{3/2} P_{ij}(k)$\")\n",
    "pl.xlim(0.005,0.2)\n",
    "pl.ylim(0,350)\n",
    "pl.text(0.09, 65, '$\\Omega_{rc} = 0.0124$',  weight='bold', size='x-large')\n",
    "pl.text(0.09, 45, 'nDGP_f6',  weight='bold', size='x-large')\n",
    "pl.text(0.1, 28, 'z=0',  weight='bold', size='x-large')\n",
    "pl.savefig('plots/dgpf6.pdf', format=\"pdf\", bbox_inches = 'tight')\n",
    "pl.show()"
   ]
  },
  {
   "cell_type": "code",
   "execution_count": 52,
   "metadata": {
    "collapsed": true
   },
   "outputs": [],
   "source": [
    "pl.plot(dgpnalex[:,0], np.sqrt(dgpnalex[:,0]**3)*dgpnalex[:,1], marker='o', color='b', ls='',  label='data')\n",
    "pl.plot(dgpsalex[:,0], np.sqrt(dgpsalex[:,0]**3)*dgpsalex[:,1], color = 'r' , label='spt')\n",
    "pl.plot(dgpsalexcs[:,0], np.sqrt(dgpsalexcs[:,0]**3)*dgpsalexcs[:,1], color = 'g' , label='c_s=1.79384')\n",
    "plt.legend(loc='best')\n",
    "pl.xlabel(\"$k \\, \\mathrm{[h/ Mpc]}$\")\n",
    "pl.ylabel(r\"$k^{3/2} P_{ij}(k)$\")\n",
    "pl.xlim(0.005,0.2)\n",
    "pl.ylim(0,350)\n",
    "pl.text(0.09, 65, '$\\Omega_{rc} = 0.25$',  weight='bold', size='x-large')\n",
    "pl.text(0.09, 45, 'nDGP_alex',  weight='bold', size='x-large')\n",
    "pl.text(0.1, 28, 'z=0',  weight='bold', size='x-large')\n",
    "pl.savefig('plots/dgpalex.pdf', format=\"pdf\", bbox_inches = 'tight')\n",
    "pl.show()"
   ]
  },
  {
   "cell_type": "code",
   "execution_count": 12,
   "metadata": {
    "collapsed": false
   },
   "outputs": [],
   "source": [
    "plt.plot([0.000001,0.00001,0.0001], [1.94393,2.13898,2.50611], marker='o', color='r', ls='')\n",
    "pl.xlabel(\"Number of Sample Points\")\n",
    "pl.ylabel(\"Computation Time / s\")\n",
    "pl.xlim(0,0.00015)\n",
    "pl.ylim(0,3)\n",
    "pl.savefig('frcs.pdf', format=\"pdf\", bbox_inches = 'tight')\n",
    "pl.show()"
   ]
  },
  {
   "cell_type": "code",
   "execution_count": null,
   "metadata": {
    "collapsed": true
   },
   "outputs": [],
   "source": []
  }
 ],
 "metadata": {
  "celltoolbar": "Edit Metadata",
  "kernelspec": {
   "display_name": "Python 2",
   "language": "python",
   "name": "python2"
  },
  "language_info": {
   "codemirror_mode": {
    "name": "ipython",
    "version": 2
   },
   "file_extension": ".py",
   "mimetype": "text/x-python",
   "name": "python",
   "nbconvert_exporter": "python",
   "pygments_lexer": "ipython2",
   "version": "2.7.11"
  }
 },
 "nbformat": 4,
 "nbformat_minor": 0
}
