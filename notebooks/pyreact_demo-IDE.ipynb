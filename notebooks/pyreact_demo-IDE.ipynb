{
 "cells": [
  {
   "cell_type": "markdown",
   "metadata": {},
   "source": [
    "# ReACT with Interact\n",
    "\n",
    "For the following example you need the Pyhton wrapper for CAMB installed. The easiest way to do this is to use the `conda` package:\n",
    "\n",
    "`conda install camb -c conda-forge`"
   ]
  },
  {
   "cell_type": "code",
   "execution_count": 1,
   "metadata": {},
   "outputs": [],
   "source": [
    "import numpy as np\n",
    "import camb\n",
    "\n",
    "%matplotlib inline\n",
    "import matplotlib.pyplot as plt\n",
    "\n",
    "import pyreact\n",
    "#print('Using CAMB %s installed at %s'%(camb.__version__,os.path.dirname(camb.__file__)))"
   ]
  },
  {
   "cell_type": "markdown",
   "metadata": {},
   "source": [
    "Set the cosmology and let CAMB compute the linear power spectrum."
   ]
  },
  {
   "cell_type": "code",
   "execution_count": 2,
   "metadata": {},
   "outputs": [],
   "source": [
    "Omega_c = 0.2598\n",
    "Omega_b = 0.0482\n",
    "h = 0.678\n",
    "n_s = 0.966 \n",
    "A_s = 2.112e-9\n",
    "m_nu = 0.0\n",
    "w0 = -1.1\n",
    "w_a = 0.0\n",
    "\n",
    "\n",
    "# Model selection and parameter (1:GR, 2:f(R), 3:DGP, 4:quintessence with interaction, 5:CPL with interaction)\n",
    "mymodel = \"quintessence with interaction\"\n",
    "xi_ds = 10.0   # dark scattering interaction term\n",
    "Omega_rc = 0.0\n",
    "massloop = 50\n",
    "\n",
    "p = camb.CAMBparams(WantTransfer=True, \n",
    "                    Want_CMB=False, Want_CMB_lensing=False, DoLensing=False, \n",
    "                    NonLinear=\"NonLinear_none\",\n",
    "                    WantTensors=False, WantVectors=False, WantCls=False, WantDerivedParameters=False,\n",
    "                    want_zdrag=False, want_zstar=False, DarkEnergyModel=\"fluid\")\n",
    "    \n",
    "p.set_cosmology(H0=h*100, ombh2=Omega_b*h**2, omch2=Omega_c*h**2, omk=0, mnu=m_nu)\n",
    "p.set_initial_power(camb.initialpower.InitialPowerLaw(As=A_s, ns=n_s))\n",
    "p.set_dark_energy(w=w0,wa=w_a)\n",
    "\n",
    "p.set_matter_power(redshifts=np.linspace(0.0, 10.0, 64, endpoint=True)[::-1],\n",
    "                   kmax=10.0, nonlinear=False)\n",
    "\n",
    "r = camb.get_results(p)\n",
    "sigma_8 = r.get_sigma8()[-1]\n",
    "k_lin, z_lin, pofk_lin_camb = r.get_matter_power_spectrum(minkh=1e-4, maxkh=10.0, npoints=128)\n",
    "\n",
    "Omega_v = r.omega_de + r.get_Omega(\"photon\") + r.get_Omega(\"neutrino\")\n",
    "Omega_m = p.omegam"
   ]
  },
  {
   "cell_type": "markdown",
   "metadata": {},
   "source": [
    "Now run ReACT to get the reaction and the modified gravity linear power spectrum that will get used by HMCode."
   ]
  },
  {
   "cell_type": "code",
   "execution_count": 3,
   "metadata": {},
   "outputs": [],
   "source": [
    "react = pyreact.ReACT()\n",
    "\n",
    "# Only compute the reaction up to z=2.5\n",
    "z_lin = np.array(z_lin)\n",
    "z_react = z_lin[z_lin < 2.5]\n",
    "\n",
    "\n",
    "R, pofk_lin_MG_react,sigma_8_MG = react.compute_reaction(\n",
    "                                h, n_s, Omega_m, Omega_b, sigma_8, z_react, k_lin, pofk_lin_camb[0], model=mymodel, \n",
    "                                fR0=0, Omega_rc=Omega_rc, w=w0, wa=w_a, xi = xi_ds, \n",
    "                                is_transfer=False, mass_loop=massloop,\n",
    "                                verbose=True)  \n"
   ]
  },
  {
   "cell_type": "markdown",
   "metadata": {},
   "source": [
    "Now make some plots!"
   ]
  },
  {
   "cell_type": "code",
   "execution_count": 4,
   "metadata": {},
   "outputs": [
    {
     "data": {
      "text/plain": [
       "Text(0.5, 1.0, 'z = 0, $\\\\xi$ = 10.0')"
      ]
     },
     "execution_count": 4,
     "metadata": {},
     "output_type": "execute_result"
    },
    {
     "data": {
      "image/png": "[encoded data removed]",
      "text/plain": [
       "<Figure size 360x360 with 2 Axes>"
      ]
     },
     "metadata": {
      "needs_background": "light"
     },
     "output_type": "display_data"
    }
   ],
   "source": [
    "fig, ax = plt.subplots(2, 1, sharex=True, figsize=(5, 5))\n",
    "fig.subplots_adjust(hspace=0)\n",
    "\n",
    "ax[0].loglog(k_lin, pofk_lin_camb[0], label=\"Linear, $\\Lambda$CDM\")\n",
    "ax[0].loglog(k_lin, pofk_lin_MG_react[0], label=\"Linear, IDE\")\n",
    "\n",
    "ax[1].semilogx(k_lin, R[0])\n",
    "\n",
    "ax[0].legend(frameon=False)\n",
    "\n",
    "ax[0].set_ylabel(\"$P(k)$ [$h^{-3}$ Mpc$^3$]\")\n",
    "ax[1].set_ylabel(\"Reaction\")\n",
    "ax[1].set_xlabel(\"$k$ [$h$ Mpc$^{-1}$]\")\n",
    "\n",
    "ax[0].set_title(f\"z = 0, $\\\\xi$ = {xi_ds}\")\n"
   ]
  },
  {
   "cell_type": "markdown",
   "metadata": {},
   "source": [
    "## Get MG non-linear power spectrum\n",
    "\n",
    "For this you need HMCode, which can be downloaded from:\n",
    "\n",
    "```\n",
    "pip install git+https://github.com/alexander-mead/HMcode@pyhmcode  \n",
    "```"
   ]
  },
  {
   "cell_type": "code",
   "execution_count": 5,
   "metadata": {},
   "outputs": [],
   "source": [
    "import pyhmcode as hmcode"
   ]
  },
  {
   "cell_type": "code",
   "execution_count": 6,
   "metadata": {},
   "outputs": [
    {
     "ename": "ValueError",
     "evalue": "Shape mismatch between k, z, pofk_lin: (128,), (64,), (16, 128)",
     "output_type": "error",
     "traceback": [
      "\u001b[0;31m---------------------------------------------------------------------------\u001b[0m",
      "\u001b[0;31mValueError\u001b[0m                                Traceback (most recent call last)",
      "\u001b[0;32m/var/folders/4l/_9w3fqyd1dlbmpktt2dxlg740000gn/T/ipykernel_93666/3761903896.py\u001b[0m in \u001b[0;36m<module>\u001b[0;34m\u001b[0m\n\u001b[1;32m     11\u001b[0m \u001b[0;34m\u001b[0m\u001b[0m\n\u001b[1;32m     12\u001b[0m \u001b[0;31m# Set the linear power spectrum for HMcode\u001b[0m\u001b[0;34m\u001b[0m\u001b[0;34m\u001b[0m\u001b[0;34m\u001b[0m\u001b[0m\n\u001b[0;32m---> 13\u001b[0;31m \u001b[0mhmc\u001b[0m\u001b[0;34m.\u001b[0m\u001b[0mset_linear_power_spectrum\u001b[0m\u001b[0;34m(\u001b[0m\u001b[0mk_lin\u001b[0m\u001b[0;34m,\u001b[0m \u001b[0mnp\u001b[0m\u001b[0;34m.\u001b[0m\u001b[0masarray\u001b[0m\u001b[0;34m(\u001b[0m\u001b[0mz_lin\u001b[0m\u001b[0;34m)\u001b[0m\u001b[0;34m,\u001b[0m \u001b[0mpofk_lin_MG_react\u001b[0m\u001b[0;34m)\u001b[0m\u001b[0;34m\u001b[0m\u001b[0;34m\u001b[0m\u001b[0m\n\u001b[0m\u001b[1;32m     14\u001b[0m \u001b[0;34m\u001b[0m\u001b[0m\n\u001b[1;32m     15\u001b[0m \u001b[0;31m# Set the halo model in HMcode\u001b[0m\u001b[0;34m\u001b[0m\u001b[0;34m\u001b[0m\u001b[0;34m\u001b[0m\u001b[0m\n",
      "\u001b[0;32m/opt/anaconda3/lib/python3.8/site-packages/pyhmcode/__init__.py\u001b[0m in \u001b[0;36mset_linear_power_spectrum\u001b[0;34m(self, k, z, pofk_lin)\u001b[0m\n\u001b[1;32m     38\u001b[0m     \u001b[0;32mdef\u001b[0m \u001b[0mset_linear_power_spectrum\u001b[0m\u001b[0;34m(\u001b[0m\u001b[0mself\u001b[0m\u001b[0;34m,\u001b[0m \u001b[0mk\u001b[0m\u001b[0;34m,\u001b[0m \u001b[0mz\u001b[0m\u001b[0;34m,\u001b[0m \u001b[0mpofk_lin\u001b[0m\u001b[0;34m)\u001b[0m\u001b[0;34m:\u001b[0m\u001b[0;34m\u001b[0m\u001b[0;34m\u001b[0m\u001b[0m\n\u001b[1;32m     39\u001b[0m         \u001b[0;32mif\u001b[0m \u001b[0mpofk_lin\u001b[0m\u001b[0;34m.\u001b[0m\u001b[0mshape\u001b[0m \u001b[0;34m!=\u001b[0m \u001b[0;34m(\u001b[0m\u001b[0mlen\u001b[0m\u001b[0;34m(\u001b[0m\u001b[0mz\u001b[0m\u001b[0;34m)\u001b[0m\u001b[0;34m,\u001b[0m \u001b[0mlen\u001b[0m\u001b[0;34m(\u001b[0m\u001b[0mk\u001b[0m\u001b[0;34m)\u001b[0m\u001b[0;34m)\u001b[0m\u001b[0;34m:\u001b[0m\u001b[0;34m\u001b[0m\u001b[0;34m\u001b[0m\u001b[0m\n\u001b[0;32m---> 40\u001b[0;31m             \u001b[0;32mraise\u001b[0m \u001b[0mValueError\u001b[0m\u001b[0;34m(\u001b[0m\u001b[0;34mf\"Shape mismatch between k, z, pofk_lin: {k.shape}, {z.shape}, {pofk_lin.shape}\"\u001b[0m\u001b[0;34m)\u001b[0m\u001b[0;34m\u001b[0m\u001b[0;34m\u001b[0m\u001b[0m\n\u001b[0m\u001b[1;32m     41\u001b[0m         \u001b[0;32mif\u001b[0m \u001b[0mz\u001b[0m\u001b[0;34m[\u001b[0m\u001b[0;36m0\u001b[0m\u001b[0;34m]\u001b[0m \u001b[0;34m>\u001b[0m \u001b[0mz\u001b[0m\u001b[0;34m[\u001b[0m\u001b[0;34m-\u001b[0m\u001b[0;36m1\u001b[0m\u001b[0;34m]\u001b[0m\u001b[0;34m:\u001b[0m\u001b[0;34m\u001b[0m\u001b[0;34m\u001b[0m\u001b[0m\n\u001b[1;32m     42\u001b[0m             \u001b[0;32mraise\u001b[0m \u001b[0mValueError\u001b[0m\u001b[0;34m(\u001b[0m\u001b[0;34m\"Redshifts need to be in increasing order.\"\u001b[0m\u001b[0;34m)\u001b[0m\u001b[0;34m\u001b[0m\u001b[0;34m\u001b[0m\u001b[0m\n",
      "\u001b[0;31mValueError\u001b[0m: Shape mismatch between k, z, pofk_lin: (128,), (64,), (16, 128)"
     ]
    }
   ],
   "source": [
    "hmc = hmcode.Cosmology()\n",
    "\n",
    "# Set HMcode internal cosmological parameters\n",
    "hmc.om_m = Omega_c+Omega_b\n",
    "hmc.om_b = Omega_b\n",
    "hmc.om_v = 1.-(Omega_c+Omega_b)\n",
    "hmc.h = h\n",
    "hmc.ns = n_s\n",
    "hmc.sig8 = sigma_8\n",
    "hmc.m_nu = m_nu\n",
    "\n",
    "# Set the linear power spectrum for HMcode\n",
    "hmc.set_linear_power_spectrum(k_lin, np.asarray(z_re), pofk_lin_MG_react)\n",
    "\n",
    "# Set the halo model in HMcode\n",
    "# Options: HMcode2015, HMcode2016, HMcode2020\n",
    "hmod = hmcode.Halomodel(hmcode.HMcode2020, verbose=False)\n",
    "\n",
    "# Power spectrum calculation\n",
    "Pk_hm = hmcode.calculate_nonlinear_power_spectrum(hmc, hmod, verbose=False)\n"
   ]
  },
  {
   "cell_type": "code",
   "execution_count": null,
   "metadata": {},
   "outputs": [],
   "source": [
    "plt.loglog(k_lin, Pk_hm[0])\n",
    "plt.loglog(k_lin, Pk_hm[0]*R[0])"
   ]
  },
  {
   "cell_type": "code",
   "execution_count": null,
   "metadata": {},
   "outputs": [],
   "source": []
  }
 ],
 "metadata": {
  "kernelspec": {
   "display_name": "Python 3 (ipykernel)",
   "language": "python",
   "name": "python3"
  },
  "language_info": {
   "codemirror_mode": {
    "name": "ipython",
    "version": 3
   },
   "file_extension": ".py",
   "mimetype": "text/x-python",
   "name": "python",
   "nbconvert_exporter": "python",
   "pygments_lexer": "ipython3",
   "version": "3.8.12"
  }
 },
 "nbformat": 4,
 "nbformat_minor": 2
}
