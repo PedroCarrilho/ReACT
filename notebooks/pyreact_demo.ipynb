{
 "cells": [
  {
   "cell_type": "markdown",
   "metadata": {},
   "source": [
    "# ReACT\n",
    "\n",
    "For the following example you need the Pyhton wrapper for CAMB installed. The easiest way to do this is to use the `conda` package:\n",
    "\n",
    "`conda install camb -c conda-forge`"
   ]
  },
  {
   "cell_type": "code",
   "execution_count": 1,
   "metadata": {},
   "outputs": [],
   "source": [
    "import numpy as np\n",
    "import camb\n",
    "\n",
    "%matplotlib inline\n",
    "import matplotlib.pyplot as plt\n",
    "\n",
    "import pyreact"
   ]
  },
  {
   "cell_type": "markdown",
   "metadata": {},
   "source": [
    "Set the cosmology and let CAMB compute the linear power spectrum."
   ]
  },
  {
   "cell_type": "code",
   "execution_count": 6,
   "metadata": {},
   "outputs": [],
   "source": [
    "Omega_c = 0.25\n",
    "Omega_b = 0.05\n",
    "h = 0.7\n",
    "n_s = 0.97\n",
    "A_s = 2.1e-9\n",
    "m_nu = 0.06\n",
    "mg1 = 1e-6\n",
    "\n",
    "p = camb.CAMBparams(WantTransfer=True, \n",
    "                    Want_CMB=False, Want_CMB_lensing=False, DoLensing=False, \n",
    "                    NonLinear=\"NonLinear_none\",\n",
    "                    WantTensors=False, WantVectors=False, WantCls=False, WantDerivedParameters=False,\n",
    "                    want_zdrag=False, want_zstar=False)\n",
    "    \n",
    "p.set_cosmology(H0=h*100, ombh2=Omega_b*h**2, omch2=Omega_c*h**2, omk=0, mnu=m_nu)\n",
    "p.set_initial_power(camb.initialpower.InitialPowerLaw(As=A_s, ns=n_s))\n",
    "\n",
    "p.set_matter_power(redshifts=np.linspace(0.0, 10.0, 64, endpoint=True)[::-1],\n",
    "                   kmax=10.0, nonlinear=False)\n",
    "\n",
    "r = camb.get_results(p)\n",
    "sigma_8 = r.get_sigma8()[-1]\n",
    "k_lin, z_lin, pofk_lin_camb = r.get_matter_power_spectrum(minkh=1e-4, maxkh=10.0, npoints=128)\n",
    "\n",
    "Omega_v = r.omega_de + r.get_Omega(\"photon\") + r.get_Omega(\"neutrino\")\n",
    "Omega_m = p.omegam"
   ]
  },
  {
   "cell_type": "markdown",
   "metadata": {},
   "source": [
    "Now run ReACT to get the reaction and the modified gravity linear power spectrum that will get used by HMCode."
   ]
  },
  {
   "cell_type": "code",
   "execution_count": 24,
   "metadata": {},
   "outputs": [],
   "source": [
    "react = pyreact.ReACT()\n",
    "\n",
    "# Only compute the reaction up to z=2.5\n",
    "z_lin = np.array(z_lin)\n",
    "z_react = z_lin[z_lin < 2.5]\n",
    "\n",
    "R, pofk_lin_MG_react = react.compute_reaction(\n",
    "                                h, n_s, Omega_m, Omega_b, sigma_8, mg1,\n",
    "                                z_react, k_lin, pofk_lin_camb[0], is_transfer=False,\n",
    "                                verbose=True)"
   ]
  },
  {
   "cell_type": "markdown",
   "metadata": {},
   "source": [
    "Now make some plots!"
   ]
  },
  {
   "cell_type": "code",
   "execution_count": 25,
   "metadata": {},
   "outputs": [
    {
     "data": {
      "text/plain": [
       "Text(0.5, 1.0, 'z = 0, f_R0 = 1e-06')"
      ]
     },
     "execution_count": 25,
     "metadata": {},
     "output_type": "execute_result"
    },
    {
     "data": {
      "image/png": "[encoded data removed]",
      "text/plain": [
       "<Figure size 360x360 with 2 Axes>"
      ]
     },
     "metadata": {
      "needs_background": "light"
     },
     "output_type": "display_data"
    }
   ],
   "source": [
    "fig, ax = plt.subplots(2, 1, sharex=True, figsize=(5, 5))\n",
    "fig.subplots_adjust(hspace=0)\n",
    "\n",
    "ax[0].loglog(k_lin, pofk_lin_camb[0], label=\"Linear, GR\")\n",
    "ax[0].loglog(k_lin, pofk_lin_MG_react[0], label=\"Linear, MG\")\n",
    "\n",
    "ax[1].semilogx(k_lin, R[0])\n",
    "\n",
    "ax[0].legend(frameon=False)\n",
    "\n",
    "ax[0].set_ylabel(\"$P(k)$ [$h^{-3}$ Mpc$^3$]\")\n",
    "ax[1].set_ylabel(\"Reaction\")\n",
    "ax[1].set_xlabel(\"$k$ [$h$ Mpc$^{-1}$]\")\n",
    "\n",
    "ax[0].set_title(f\"z = 0, f_R0 = {mg1}\")\n"
   ]
  },
  {
   "cell_type": "markdown",
   "metadata": {},
   "source": [
    "## Get MG non-linear power spectrum\n",
    "\n",
    "For this you need HMCode. This is part of the HMx code, and its Python interface can be found (for now) here:\n",
    "```\n",
    "pip install git+https://github.com/tilmantroester/HMx.git@python_interface#egg=pyhmx\n",
    "```"
   ]
  },
  {
   "cell_type": "code",
   "execution_count": 18,
   "metadata": {},
   "outputs": [],
   "source": [
    "import pyhmx"
   ]
  },
  {
   "cell_type": "code",
   "execution_count": 19,
   "metadata": {},
   "outputs": [],
   "source": [
    "hmx = pyhmx.HMx()\n",
    "\n",
    "halo_model_mode = hmx.constants.HMCode2016\n",
    "\n",
    "A = 3.13\n",
    "eta0 = 0.603\n",
    "\n",
    "fields = np.array([hmx.constants.field_dmonly])"
   ]
  },
  {
   "cell_type": "code",
   "execution_count": 26,
   "metadata": {},
   "outputs": [],
   "source": [
    "pofk_lin_MG = np.concatenate((pofk_lin_MG_react, pofk_lin_camb[z_lin > 2.5]), axis=0)\n",
    "z_lin_MG = np.concatenate((z_react, z_lin[z_lin > 2.5]))"
   ]
  },
  {
   "cell_type": "code",
   "execution_count": 27,
   "metadata": {},
   "outputs": [],
   "source": [
    "z_lin_MG = np.array(z_lin_MG[::-1])\n",
    "a_lin_MG = 1/(1+z_lin_MG)\n",
    "\n",
    "a_react = 1/(1+z_react[::-1])\n",
    "\n",
    "Pk_HMx_dmonly = hmx._run_hmx(Omega_m, Omega_b, Omega_v, h, n_s, sigma_8, m_nu, -1, 0,\n",
    "                              halo_model_mode, 10**7.8, eta0, A,\n",
    "                              fields=fields,\n",
    "                              k=k_lin,\n",
    "                              a=a_react,\n",
    "                              k_lin=k_lin, a_lin=a_lin_MG,\n",
    "                              pk_lin=pofk_lin_MG[::-1,:].T,\n",
    "                              verbose=True)"
   ]
  },
  {
   "cell_type": "code",
   "execution_count": 32,
   "metadata": {},
   "outputs": [
    {
     "data": {
      "text/plain": [
       "[<matplotlib.lines.Line2D at 0xb24877ed0>]"
      ]
     },
     "execution_count": 32,
     "metadata": {},
     "output_type": "execute_result"
    },
    {
     "data": {
      "image/png": "[encoded data removed]",
      "text/plain": [
       "<Figure size 432x288 with 1 Axes>"
      ]
     },
     "metadata": {
      "needs_background": "light"
     },
     "output_type": "display_data"
    }
   ],
   "source": [
    "plt.loglog(k_lin, Pk_HMx_dmonly[0,0,:,-1])\n",
    "plt.loglog(k_lin, Pk_HMx_dmonly[0,0,:,-1]*R[0])"
   ]
  },
  {
   "cell_type": "code",
   "execution_count": null,
   "metadata": {},
   "outputs": [],
   "source": []
  }
 ],
 "metadata": {
  "kernelspec": {
   "display_name": "Python [conda env:analysis]",
   "language": "python",
   "name": "conda-env-analysis-py"
  },
  "language_info": {
   "codemirror_mode": {
    "name": "ipython",
    "version": 3
   },
   "file_extension": ".py",
   "mimetype": "text/x-python",
   "name": "python",
   "nbconvert_exporter": "python",
   "pygments_lexer": "ipython3",
   "version": "3.7.4"
  }
 },
 "nbformat": 4,
 "nbformat_minor": 2
}
