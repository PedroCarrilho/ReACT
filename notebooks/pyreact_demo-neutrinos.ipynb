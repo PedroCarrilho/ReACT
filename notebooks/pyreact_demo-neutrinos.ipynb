{
 "cells": [
  {
   "cell_type": "markdown",
   "metadata": {},
   "source": [
    "# ReACT with massive neutrinos\n",
    "\n",
    "For the following example you need the Pyhton wrapper for CAMB installed. The easiest way to do this is to use the `conda` package:\n",
    "\n",
    "`conda install camb -c conda-forge`"
   ]
  },
  {
   "cell_type": "markdown",
   "metadata": {},
   "source": [
    "We will look at an example of quintessence with massive neutrinos. \n",
    "\n",
    "If you want to have modified gravity such as f(R) or DGP with massive neutrinos you will need a wrapper for the associated boltzmann code, or work in developer mode and use the example files in reactions/examples. "
   ]
  },
  {
   "cell_type": "code",
   "execution_count": 1,
   "metadata": {},
   "outputs": [],
   "source": [
    "import numpy as np\n",
    "import camb \n",
    "\n",
    "%matplotlib inline\n",
    "import matplotlib.pyplot as plt\n",
    "\n",
    "import pyreact\n",
    "#print('Using CAMB %s installed at %s'%(camb.__version__,os.path.dirname(camb.__file__)))\n",
    "\n",
    "from scipy.interpolate import CubicSpline"
   ]
  },
  {
   "cell_type": "markdown",
   "metadata": {},
   "source": [
    "Set the cosmology and let CAMB compute the linear power spectrum."
   ]
  },
  {
   "cell_type": "code",
   "execution_count": 2,
   "metadata": {},
   "outputs": [],
   "source": [
    "Omega_c = 0.2598\n",
    "Omega_b = 0.0482\n",
    "h = 0.678\n",
    "n_s = 0.966 \n",
    "A_s = 2.112e-9\n",
    "\n",
    "# Model selection and parameter (1:GR, 2:f(R), 3:DGP, 4:quintessence , 5:CPL )\n",
    "mymodel = \"quintessence\"\n",
    "w0 = -0.9\n",
    "w_a = 0.0\n",
    "# set mass of massive neutrino species \n",
    "m_nu = 0.2\n",
    "Omega_nu = m_nu/93.14/h**2\n",
    "# Loop in spherical collapse \n",
    "massloop = 30\n",
    "\n",
    "Omega_m = Omega_c + Omega_b + Omega_nu"
   ]
  },
  {
   "cell_type": "code",
   "execution_count": 3,
   "metadata": {},
   "outputs": [],
   "source": [
    "# Run CAMB for target cosmology (quintessence) and for LCDM.\n",
    "p = camb.CAMBparams(WantTransfer=True, \n",
    "                    Want_CMB=False, Want_CMB_lensing=False, DoLensing=False, \n",
    "                    NonLinear=\"NonLinear_none\",\n",
    "                    WantTensors=False, WantVectors=False, WantCls=False, WantDerivedParameters=False,\n",
    "                    want_zdrag=False, want_zstar=False, DarkEnergyModel=\"fluid\")\n",
    "    \n",
    "p.set_cosmology(H0=h*100, ombh2=Omega_b*h**2, omch2=Omega_c*h**2, omk=0, mnu=m_nu)\n",
    "p.set_initial_power(camb.initialpower.InitialPowerLaw(As=A_s, ns=n_s))\n",
    "p.set_dark_energy(w=w0,wa=w_a)\n",
    "\n",
    "\n",
    "p.set_matter_power(redshifts=np.linspace(0.0, 1.0, 2, endpoint=True)[::-1],\n",
    "                   kmax=10.0, nonlinear=False)\n",
    "\n",
    "#We will consider redshifts 0.0 and 1.0\n",
    "r = camb.get_results(p)\n",
    "sigma_8 = r.get_sigma8()[-1]\n",
    "\n",
    "# power spectra needed for input (total matter and CDM+baryons) - alternatively one can use the transfer functions\n",
    "#the matter power spectrum (will be used for a consistency test)\n",
    "k_lin, z_lin, pofk_lin_camb_tot = r.get_matter_power_spectrum(minkh=1e-4, maxkh=10.0, npoints=256,\n",
    "                                                              var1='delta_tot',var2='delta_tot')\n",
    "k_lin, z_lin, pofk_lin_camb_cb = r.get_matter_power_spectrum(minkh=1e-4, maxkh=10.0, npoints=256,\n",
    "                                                             var1= 'delta_nonu',var2='delta_nonu')\n"
   ]
  },
  {
   "cell_type": "code",
   "execution_count": 4,
   "metadata": {},
   "outputs": [],
   "source": [
    "# Get CB spectrum for LCDM \n",
    "p_lcdm = camb.CAMBparams(WantTransfer=True, \n",
    "                    Want_CMB=False, Want_CMB_lensing=False, DoLensing=False, \n",
    "                    NonLinear=\"NonLinear_none\",\n",
    "                    WantTensors=False, WantVectors=False, WantCls=False, WantDerivedParameters=False,\n",
    "                    want_zdrag=False, want_zstar=False, DarkEnergyModel=\"fluid\")\n",
    "    \n",
    "p_lcdm.set_cosmology(H0=h*100, ombh2=Omega_b*h**2, omch2=Omega_c*h**2, omk=0, mnu=m_nu)\n",
    "p_lcdm.set_initial_power(camb.initialpower.InitialPowerLaw(As=A_s, ns=n_s))\n",
    "p_lcdm.set_dark_energy(w=-1.0,wa=0.0)\n",
    "\n",
    "p_lcdm.set_matter_power(redshifts=np.linspace(0.0, 1.0, 2, endpoint=True)[::-1],\n",
    "                   kmax=10.0, nonlinear=False)\n",
    "\n",
    "r_lcdm = camb.get_results(p_lcdm)\n",
    "sigma_8_lcdm = r_lcdm.get_sigma8()[-1]\n",
    "\n",
    "# power spectra needed for input (total matter and CDM+baryons) - alternatively one can use the transfer functions\n",
    "#the matter power spectrum (will be used for a consistency test)\n",
    "k_lin_lcdm, z_lin, pofk_lin_camb_lcdm_cb = r_lcdm.get_matter_power_spectrum(minkh=1e-4, maxkh=10.0, npoints=256,\n",
    "                                                              var1='delta_nonu',var2='delta_nonu')\n"
   ]
  },
  {
   "cell_type": "markdown",
   "metadata": {},
   "source": [
    "Now run ReACT to get the reaction (and the modified linear power spectrum) "
   ]
  },
  {
   "cell_type": "code",
   "execution_count": 5,
   "metadata": {},
   "outputs": [],
   "source": [
    "react = pyreact.ReACT()\n",
    "\n",
    "# Only compute the reaction up to z=2.5\n",
    "z_lin = np.array(z_lin)\n",
    "z_react = z_lin[z_lin < 2.5]\n",
    "\n",
    " \n",
    "R0, pofk_lin_mod_react0, sigma_8_mod = react.compute_reaction_nu(\n",
    "                                h, n_s, Omega_m, Omega_b, Omega_nu, A_s, \n",
    "                                z_react, k_lin, pofk_lin_camb_tot.flatten(), pofk_lin_camb_cb.flatten(),\n",
    "                                k_lin_lcdm, pofk_lin_camb_lcdm_cb.flatten(), \n",
    "                                pscale = 0.05,\n",
    "                                model=mymodel, \n",
    "                                fR0=0., Omega_rc=0, w=w0, wa=0, \n",
    "                                is_transfer=False, mass_loop=massloop,\n",
    "                                verbose=True)  \n"
   ]
  },
  {
   "cell_type": "code",
   "execution_count": 6,
   "metadata": {},
   "outputs": [
    {
     "data": {
      "text/plain": [
       "1.0001380925047498"
      ]
     },
     "execution_count": 6,
     "metadata": {},
     "output_type": "execute_result"
    }
   ],
   "source": [
    "sigma_8_mod/sigma_8"
   ]
  },
  {
   "cell_type": "markdown",
   "metadata": {},
   "source": [
    "Now plot the reaction and matter spectrum as a consistency check "
   ]
  },
  {
   "cell_type": "code",
   "execution_count": 8,
   "metadata": {},
   "outputs": [
    {
     "data": {
      "text/plain": [
       "<matplotlib.legend.Legend at 0x128b1f390>"
      ]
     },
     "execution_count": 8,
     "metadata": {},
     "output_type": "execute_result"
    },
    {
     "data": {
      "image/png": "[encoded data removed]",
      "text/plain": [
       "<Figure size 432x288 with 1 Axes>"
      ]
     },
     "metadata": {
      "needs_background": "light"
     },
     "output_type": "display_data"
    }
   ],
   "source": [
    "plt.semilogx(k_lin, pofk_lin_mod_react0[0]/pofk_lin_camb_tot[0],linestyle='dotted',label='z=0')\n",
    "plt.semilogx(k_lin, pofk_lin_mod_react0[1]/pofk_lin_camb_tot[1],linestyle='dotted',label='z=1')\n",
    "\n",
    "plt.xlim([1e-2,10])\n",
    "#plt.ylim([0.99,1.1])\n",
    "\n",
    "plt.legend()"
   ]
  },
  {
   "cell_type": "code",
   "execution_count": 9,
   "metadata": {},
   "outputs": [
    {
     "data": {
      "text/plain": [
       "<matplotlib.legend.Legend at 0x129b9df90>"
      ]
     },
     "execution_count": 9,
     "metadata": {},
     "output_type": "execute_result"
    },
    {
     "data": {
      "image/png": "[encoded data removed]",
      "text/plain": [
       "<Figure size 432x288 with 1 Axes>"
      ]
     },
     "metadata": {
      "needs_background": "light"
     },
     "output_type": "display_data"
    }
   ],
   "source": [
    "plt.semilogx(k_lin, R0[0],linestyle='dotted',label='z=0')\n",
    "plt.semilogx(k_lin, R0[1],linestyle='dotted',label='z=1')\n",
    "\n",
    "plt.xlim([1e-2,10])\n",
    "plt.ylim([0.99,1.1])\n",
    "\n",
    "plt.legend()"
   ]
  }
 ],
 "metadata": {
  "kernelspec": {
   "display_name": "Python 3",
   "language": "python",
   "name": "python3"
  },
  "language_info": {
   "codemirror_mode": {
    "name": "ipython",
    "version": 3
   },
   "file_extension": ".py",
   "mimetype": "text/x-python",
   "name": "python",
   "nbconvert_exporter": "python",
   "pygments_lexer": "ipython3",
   "version": "3.7.7"
  }
 },
 "nbformat": 4,
 "nbformat_minor": 2
}
