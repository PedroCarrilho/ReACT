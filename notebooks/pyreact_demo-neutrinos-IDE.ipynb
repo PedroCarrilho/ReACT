{
 "cells": [
  {
   "cell_type": "markdown",
   "metadata": {},
   "source": [
    "# ReACT with massive neutrinos and Dark Scattering\n",
    "\n",
    "For the following example you need the DS version of CLASS installed. The easiest way to do this is to get it from github at:\n",
    "\n",
    "`https://github.com/PedroCarrilho/class_public/tree/IDE_DS`"
   ]
  },
  {
   "cell_type": "markdown",
   "metadata": {},
   "source": [
    "We will look at an example of CPL dark energy with DS with massive neutrinos. \n",
    "\n",
    "If you want to have modified gravity such as f(R) or DGP with massive neutrinos you will need a wrapper for the associated boltzmann code, or work in developer mode and use the example files in reactions/examples. "
   ]
  },
  {
   "cell_type": "code",
   "execution_count": 1,
   "metadata": {},
   "outputs": [],
   "source": [
    "from classy import Class\n",
    "\n",
    "import numpy as np\n",
    "\n",
    "%matplotlib inline\n",
    "import matplotlib.pyplot as plt\n",
    "\n",
    "import pyreact\n",
    "\n",
    "from scipy.interpolate import CubicSpline"
   ]
  },
  {
   "cell_type": "markdown",
   "metadata": {},
   "source": [
    "Set the cosmology and let CAMB compute the linear power spectrum."
   ]
  },
  {
   "cell_type": "code",
   "execution_count": 2,
   "metadata": {},
   "outputs": [],
   "source": [
    "Omega_c = 0.2598\n",
    "Omega_b = 0.0482\n",
    "h = 0.678\n",
    "n_s = 0.966 \n",
    "A_s = 2.115e-9\n",
    "\n",
    "# Model selection and parameter (1:GR, 2:f(R), 3:DGP, 4:quintessence with interaction, 5:CPL with interaction)\n",
    "mymodel = \"CPL with interaction\"\n",
    "w0 = -1.1\n",
    "w_a = 0.3\n",
    "xi_ds = 50.\n",
    "# set mass of massive neutrino species \n",
    "m_nu = 0.1\n",
    "Omega_nu = m_nu/93.14/h**2\n",
    "# Loop in spherical collapse \n",
    "massloop = 50\n",
    "\n",
    "Omega_m = Omega_c + Omega_b + Omega_nu\n",
    "\n",
    "# redshift array: must use at least 5 values of hmcode will not work\n",
    "z_lin = np.linspace(0.0, 1.0, 5)\n",
    "\n",
    "# wavemode array in units of h/Mpc\n",
    "k_lin = np.geomspace(1e-4, 50, 500)"
   ]
  },
  {
   "cell_type": "code",
   "execution_count": 3,
   "metadata": {
    "scrolled": false
   },
   "outputs": [],
   "source": [
    "# Use class for LCDM\n",
    "cosmo_lcdm= Class()\n",
    "cosmo_lcdm.set({'output':'tCl mPk dTk vTk','P_k_max_1/Mpc':50,'z_max_pk':1,\n",
    "               'h':h,'N_ur':2.0308,'N_ncdm':1,'m_ncdm':m_nu,\n",
    "               'gauge':'Newtonian',\n",
    "               'omega_b':Omega_b*h**2,'omega_cdm':Omega_c*h**2,\n",
    "               'A_s':A_s,'n_s':n_s})\n",
    "\n",
    "cosmo_lcdm.compute()\n",
    "\n",
    "sigma8_lcdm=cosmo_lcdm.sigma8()\n",
    "\n",
    "Pk_lcdm = np.array([[cosmo_lcdm.pk(k, z)*h*h*h for k in h*k_lin] for z in z_lin])\n",
    "Pk_lcdm_cb = np.array([[cosmo_lcdm.pk_cb(k, z)*h*h*h for k in h*k_lin]for z in z_lin])"
   ]
  },
  {
   "cell_type": "code",
   "execution_count": 4,
   "metadata": {},
   "outputs": [],
   "source": [
    "# Use class for CPL case without DS\n",
    "cosmo_cpl = Class()\n",
    "cosmo_cpl.set({'output':'tCl mPk dTk vTk','P_k_max_1/Mpc':50,'z_max_pk':1,\n",
    "               'h':h,'N_ur':2.0308,'N_ncdm':1,'m_ncdm':m_nu,\n",
    "               'cs2_fld':1.,\n",
    "               'w0_fld':w0,'wa_fld':w_a,'xi_ds':0.0,'Omega_Lambda':0.,'gauge':'Newtonian',\n",
    "               'use_ppf':'yes','dark_scattering':'yes',\n",
    "               'omega_b':Omega_b*h**2,'omega_cdm':Omega_c*h**2,\n",
    "               'A_s':A_s,'n_s':n_s})\n",
    "\n",
    "cosmo_cpl.compute()\n",
    "\n",
    "sigma8_cpl=cosmo_cpl.sigma8()\n",
    "\n",
    "Pk_cpl = np.array([[cosmo_cpl.pk(k, z)*h*h*h for k in h*k_lin] for z in z_lin])\n",
    "Pk_cpl_cb = np.array([[cosmo_cpl.pk_cb(k, z)*h*h*h for k in h*k_lin]for z in z_lin])"
   ]
  },
  {
   "cell_type": "code",
   "execution_count": 5,
   "metadata": {},
   "outputs": [],
   "source": [
    "# Use class for CPL case with DS\n",
    "cosmo_cpl_xi = Class()\n",
    "cosmo_cpl_xi.set({'output':'tCl mPk dTk vTk','P_k_max_1/Mpc':50,'z_max_pk':1,\n",
    "               'h':h,'N_ur':2.0308,'N_ncdm':1,'m_ncdm':m_nu,\n",
    "               'cs2_fld':1.,\n",
    "               'w0_fld':w0,'wa_fld':w_a,'xi_ds':xi_ds,'Omega_Lambda':0.,'gauge':'Newtonian',\n",
    "               'use_ppf':'yes','dark_scattering':'yes',\n",
    "               'omega_b':Omega_b*h**2,'omega_cdm':Omega_c*h**2,\n",
    "               'A_s':A_s,'n_s':n_s})\n",
    "\n",
    "cosmo_cpl_xi.compute()\n",
    "\n",
    "sigma8_cpl_xi=cosmo_cpl_xi.sigma8()\n",
    "\n",
    "Pk_cpl_xi = np.array([[cosmo_cpl_xi.pk(k, z)*h*h*h for k in h*k_lin] for z in z_lin])\n",
    "Pk_cpl_cb_xi = np.array([[cosmo_cpl_xi.pk_cb(k, z)*h*h*h for k in h*k_lin]for z in z_lin])"
   ]
  },
  {
   "cell_type": "markdown",
   "metadata": {},
   "source": [
    "Now use ReACT to get the reaction"
   ]
  },
  {
   "cell_type": "code",
   "execution_count": 6,
   "metadata": {},
   "outputs": [],
   "source": [
    "# Correct xi_ds that goes into react, to account for non-cdm species (Eq. 23 of https://arxiv.org/abs/2111.13598)\n",
    "Rc=Omega_c/Omega_m\n",
    "unit_conv = 0.0194407\n",
    "Corr_xi = xi_ds*Rc/(1.+ unit_conv*h*(1.-Omega_m)*(1. + w0)*xi_ds*(1.-Rc))"
   ]
  },
  {
   "cell_type": "code",
   "execution_count": 7,
   "metadata": {},
   "outputs": [
    {
     "name": "stderr",
     "output_type": "stream",
     "text": [
      "Reaction error: You must supply the input transfer functions if using a modified linear input\n",
      "Reaction error: You must supply the input transfer functions if using a modified linear input\n"
     ]
    }
   ],
   "source": [
    "react = pyreact.ReACT()\n",
    "\n",
    "# Only compute the reaction up to z=2.5\n",
    "z_lin = np.array(z_lin)\n",
    "z_react = z_lin[z_lin < 2.5]\n",
    "\n",
    "# Compute reaction with DS\n",
    "R, pofk_lin_react, sigma_8_mod = react.compute_reaction_nu(\n",
    "                                h, n_s, Omega_m, Omega_b, Omega_nu, A_s, \n",
    "                                z_react, k_lin, Pk_cpl_xi.flatten(), Pk_cpl_cb_xi.flatten(),\n",
    "                                k_lin, Pk_lcdm_cb.flatten(), \n",
    "                                pscale = 0.05,\n",
    "                                model=mymodel, \n",
    "                                fR0=0., Omega_rc=0, w=w0, wa=w_a, xi=Corr_xi,\n",
    "                                is_transfer=False, mass_loop=massloop,\n",
    "                                verbose=True)  \n",
    "# Compute reaction without DS\n",
    "R0, pofk_lin_react0, sigma_8_mod0 = react.compute_reaction_nu(\n",
    "                                h, n_s, Omega_m, Omega_b, Omega_nu, A_s, \n",
    "                                z_react, k_lin, Pk_cpl.flatten(), Pk_cpl_cb.flatten(),\n",
    "                                k_lin, Pk_lcdm_cb.flatten(), \n",
    "                                pscale = 0.05,\n",
    "                                model=mymodel, \n",
    "                                fR0=0., Omega_rc=0, w=w0, wa=w_a, xi=0.0, \n",
    "                                is_transfer=False, mass_loop=massloop,\n",
    "                                verbose=True)  \n"
   ]
  },
  {
   "cell_type": "markdown",
   "metadata": {},
   "source": [
    "Now plot the reaction and matter spectrum as a consistency check "
   ]
  },
  {
   "cell_type": "code",
   "execution_count": 8,
   "metadata": {},
   "outputs": [
    {
     "data": {
      "text/plain": [
       "<matplotlib.legend.Legend at 0x7fb60e7aa880>"
      ]
     },
     "execution_count": 8,
     "metadata": {},
     "output_type": "execute_result"
    },
    {
     "data": {
      "image/png": "[encoded data removed]",
      "text/plain": [
       "<Figure size 432x288 with 1 Axes>"
      ]
     },
     "metadata": {
      "needs_background": "light"
     },
     "output_type": "display_data"
    }
   ],
   "source": [
    "plt.semilogx(k_lin, pofk_lin_react[0]/Pk_cpl_xi[0],linestyle='dotted',label='xi=50')\n",
    "plt.semilogx(k_lin, pofk_lin_react0[0]/Pk_cpl[0],linestyle='dotted',label='xi=0')\n",
    "\n",
    "plt.xlim([1e-2,10])\n",
    "plt.ylim([0.99,1.01])\n",
    "\n",
    "plt.legend()"
   ]
  },
  {
   "cell_type": "code",
   "execution_count": 9,
   "metadata": {},
   "outputs": [
    {
     "data": {
      "text/plain": [
       "<matplotlib.legend.Legend at 0x7fb618a2e310>"
      ]
     },
     "execution_count": 9,
     "metadata": {},
     "output_type": "execute_result"
    },
    {
     "data": {
      "image/png": "[encoded data removed]",
      "text/plain": [
       "<Figure size 432x288 with 1 Axes>"
      ]
     },
     "metadata": {
      "needs_background": "light"
     },
     "output_type": "display_data"
    }
   ],
   "source": [
    "plt.semilogx(k_lin, R[0],linestyle='dotted',label='xi=50')\n",
    "plt.semilogx(k_lin, R0[0],linestyle='dotted',label='xi=0')\n",
    "\n",
    "plt.xlim([1e-2,10])\n",
    "plt.ylim([0.99,1.05])\n",
    "\n",
    "plt.legend()"
   ]
  },
  {
   "cell_type": "markdown",
   "metadata": {},
   "source": [
    "Finally, use HMCODE to compute the pseudo power spectrum"
   ]
  },
  {
   "cell_type": "code",
   "execution_count": 10,
   "metadata": {},
   "outputs": [],
   "source": [
    "import pyhmcode as hmcode"
   ]
  },
  {
   "cell_type": "code",
   "execution_count": 11,
   "metadata": {},
   "outputs": [],
   "source": [
    "# Setup HMcode internal cosmology\n",
    "c_lcdm = hmcode.Cosmology()\n",
    "\n",
    "# Set HMcode internal cosmological parameters\n",
    "c_lcdm.om_m = cosmo_lcdm.Omega_m()\n",
    "c_lcdm.om_b = Omega_b\n",
    "c_lcdm.om_v = 1.-cosmo_lcdm.Omega_m()\n",
    "c_lcdm.h = h\n",
    "c_lcdm.ns = n_s\n",
    "c_lcdm.sig8 = sigma8_lcdm\n",
    "c_lcdm.m_nu = m_nu\n",
    "\n",
    "# Set the linear power spectrum for HMcode\n",
    "c_lcdm.set_linear_power_spectrum(k_lin, np.asarray(z_lin), Pk_lcdm)\n",
    "\n",
    "# Set the halo model in HMcode\n",
    "# Options: HMcode2015, HMcode2016, HMcode2020\n",
    "hmod = hmcode.Halomodel(hmcode.HMcode2020, verbose=False)\n",
    "\n",
    "# Power spectrum calculation\n",
    "Pk_hm_lcdm = hmcode.calculate_nonlinear_power_spectrum(c_lcdm, hmod, verbose=False)\n",
    "\n"
   ]
  },
  {
   "cell_type": "code",
   "execution_count": 12,
   "metadata": {},
   "outputs": [],
   "source": [
    "# Setup HMcode internal cosmology\n",
    "c_w09= hmcode.Cosmology()\n",
    "\n",
    "# Set HMcode internal cosmological parameters\n",
    "c_w09.om_m = cosmo_cpl.Omega_m()\n",
    "c_w09.om_b = Omega_b\n",
    "c_w09.om_v = 1.-cosmo_cpl.Omega_m()\n",
    "c_w09.h = h\n",
    "c_w09.ns = n_s\n",
    "c_w09.sig8 = sigma8_cpl\n",
    "c_w09.m_nu = m_nu\n",
    "\n",
    "# Set the linear power spectrum for HMcode\n",
    "c_w09.set_linear_power_spectrum(k_lin, np.asarray(z_lin), Pk_cpl)\n",
    "\n",
    "# Set the halo model in HMcode\n",
    "# Options: HMcode2015, HMcode2016, HMcode2020\n",
    "hmod = hmcode.Halomodel(hmcode.HMcode2020, verbose=False)\n",
    "# Power spectrum calculation\n",
    "Pk_hm_w09 = hmcode.calculate_nonlinear_power_spectrum(c_w09, hmod, verbose=False)"
   ]
  },
  {
   "cell_type": "code",
   "execution_count": 13,
   "metadata": {},
   "outputs": [],
   "source": [
    "# Setup HMcode internal cosmology\n",
    "c_w09_xi= hmcode.Cosmology()\n",
    "\n",
    "# Set HMcode internal cosmological parameters\n",
    "c_w09_xi.om_m = cosmo_cpl_xi.Omega_m()\n",
    "c_w09_xi.om_b = Omega_b\n",
    "c_w09_xi.om_v = 1.-cosmo_cpl_xi.Omega_m()\n",
    "c_w09_xi.h = h\n",
    "c_w09_xi.ns = n_s\n",
    "c_w09_xi.sig8 = sigma8_cpl_xi\n",
    "c_w09_xi.m_nu = m_nu\n",
    "\n",
    "# Set the halo model in HMcode\n",
    "# Options: HMcode2015, HMcode2016, HMcode2020\n",
    "hmod = hmcode.Halomodel(hmcode.HMcode2020, verbose=False)\n",
    "\n",
    "# Set the linear power spectrum for HMcode\n",
    "c_w09_xi.set_linear_power_spectrum(k_lin, np.asarray(z_lin), Pk_cpl_xi)\n",
    "\n",
    "# Power spectrum calculation\n",
    "Pk_hm_w09_xi = hmcode.calculate_nonlinear_power_spectrum(c_w09_xi, hmod, verbose=False)\n"
   ]
  },
  {
   "cell_type": "code",
   "execution_count": 14,
   "metadata": {},
   "outputs": [
    {
     "data": {
      "text/plain": [
       "<matplotlib.legend.Legend at 0x7fb618d22b80>"
      ]
     },
     "execution_count": 14,
     "metadata": {},
     "output_type": "execute_result"
    },
    {
     "data": {
      "image/png": "[encoded data removed]",
      "text/plain": [
       "<Figure size 432x288 with 1 Axes>"
      ]
     },
     "metadata": {
      "needs_background": "light"
     },
     "output_type": "display_data"
    }
   ],
   "source": [
    "# Plot ratios to LCDM\n",
    "plt.semilogx(k_lin,(Pk_hm_w09[0]*R0[0]/Pk_hm_lcdm[0]),'b-',label='xi=0 NL')\n",
    "plt.semilogx(k_lin,(Pk_cpl[0]/Pk_lcdm[0]),'b--',label='xi=0 L')\n",
    "plt.semilogx(k_lin,(Pk_hm_w09_xi[0]*R[0]/Pk_hm_lcdm[0]),'r-',label='xi=50 NL')\n",
    "plt.semilogx(k_lin,(Pk_cpl_xi[0]/Pk_lcdm[0]),'r--',label='xi=50 L')\n",
    "\n",
    "plt.ylim([0.85,1.1])\n",
    "plt.xlim([1e-2,10])\n",
    "plt.legend()"
   ]
  },
  {
   "cell_type": "code",
   "execution_count": null,
   "metadata": {},
   "outputs": [],
   "source": []
  }
 ],
 "metadata": {
  "kernelspec": {
   "display_name": "Python 3 (ipykernel)",
   "language": "python",
   "name": "python3"
  },
  "language_info": {
   "codemirror_mode": {
    "name": "ipython",
    "version": 3
   },
   "file_extension": ".py",
   "mimetype": "text/x-python",
   "name": "python",
   "nbconvert_exporter": "python",
   "pygments_lexer": "ipython3",
   "version": "3.8.12"
  }
 },
 "nbformat": 4,
 "nbformat_minor": 2
}
